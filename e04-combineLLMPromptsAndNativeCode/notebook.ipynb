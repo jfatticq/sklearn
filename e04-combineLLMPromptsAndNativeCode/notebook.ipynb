{
 "cells": [
  {
   "attachments": {},
   "cell_type": "markdown",
   "metadata": {},
   "source": [
    "# Combine LLM Prompts & Native Code"
   ]
  },
  {
   "cell_type": "code",
   "execution_count": 13,
   "metadata": {
    "dotnet_interactive": {
     "language": "csharp"
    },
    "polyglot_notebook": {
     "kernelName": "csharp"
    },
    "vscode": {
     "languageId": "polyglot-notebook"
    }
   },
   "outputs": [
    {
     "data": {
      "text/html": [
       "<div><div></div><div></div><div><strong>Installed Packages</strong><ul><li><span>Microsoft.SemanticKernel, 0.14.547.1-preview</span></li></ul></div></div>"
      ]
     },
     "metadata": {},
     "output_type": "display_data"
    }
   ],
   "source": [
    "#r \"nuget: Microsoft.SemanticKernel, 0.14.547.1-preview\"\n",
    "\n",
    "using Microsoft.SemanticKernel;\n",
    "using Microsoft.SemanticKernel.Orchestration;\n",
    "\n",
    "#!import ../config/SettingsHelper.cs\n",
    "\n",
    "SettingsHelper.LoadFromFile();\n",
    "\n",
    "IKernel kernel = new KernelBuilder().Build();\n",
    "if (Settings.UseAzureOpenAI)\n",
    "{\n",
    "    kernel.Config.AddAzureTextCompletionService(\"davinci2\", \"text-davinci-002\", Settings.AzureEndpoint, Settings.OpenAIApiKey);\n",
    "    kernel.Config.AddAzureTextCompletionService(\"davinci3\", \"text-davinci-003\", Settings.AzureEndpoint, Settings.OpenAIApiKey);\n",
    "}\n",
    "else\n",
    "{\n",
    "    kernel.Config.AddOpenAITextCompletionService(\"davinci\", \"text-davinci-002\", Settings.OpenAIApiKey, Settings.OrgId);\n",
    "}"
   ]
  },
  {
   "cell_type": "code",
   "execution_count": 19,
   "metadata": {
    "dotnet_interactive": {
     "language": "csharp"
    },
    "polyglot_notebook": {
     "kernelName": "csharp"
    },
    "vscode": {
     "languageId": "polyglot-notebook"
    }
   },
   "outputs": [
    {
     "data": {
      "text/html": [
       "<div><div></div><div></div><div><strong>Installed Packages</strong><ul><li><span>Microsoft.SemanticKernel.Skills.Web, 0.14.547.1-preview</span></li></ul></div></div>"
      ]
     },
     "metadata": {},
     "output_type": "display_data"
    },
    {
     "ename": "Error",
     "evalue": "(7,21): error CS0246: The type or namespace name 'ISKFunction' could not be found (are you missing a using directive or an assembly reference?)\r\n(7,41): error CS0266: Cannot implicitly convert type 'System.Collections.Generic.IDictionary<string, Microsoft.SemanticKernel.SkillDefinition.ISKFunction>' to 'System.Collections.Generic.IDictionary<string, ISKFunction>'. An explicit conversion exists (are you missing a cast?)",
     "output_type": "error",
     "traceback": [
      "(7,21): error CS0246: The type or namespace name 'ISKFunction' could not be found (are you missing a using directive or an assembly reference?)\r\n",
      "(7,41): error CS0266: Cannot implicitly convert type 'System.Collections.Generic.IDictionary<string, Microsoft.SemanticKernel.SkillDefinition.ISKFunction>' to 'System.Collections.Generic.IDictionary<string, ISKFunction>'. An explicit conversion exists (are you missing a cast?)"
     ]
    }
   ],
   "source": [
    "#r \"nuget: Microsoft.SemanticKernel.Skills.Web, 0.14.547.1-preview\"\n",
    "\n",
    "using Microsoft.SemanticKernel;\n",
    "using Microsoft.SemanticKernel.Orchestration;\n",
    "using Microsoft.SemanticKernel.Skills.Web;\n",
    "using Microsoft.SemanticKernel.Skills.Web.Bing;\n",
    "\n",
    "BingConnector bing = new(Settings.BingApiKey);\n",
    "IDictionary<string, ISKFunction> text = kernel.ImportSkill(bing, \"bing\");\n",
    "var search = kernel.ImportSkill(bing, \"bing\");\n",
    "\n",
    "// Load the Skills Directory\n",
    "var skillsDirectory = Path.Combine(System.IO.Directory.GetCurrentDirectory(), \"Skills\");\n",
    "\n",
    "// Load the EmpathizeSkill from the Skills Directory\n",
    "var sumSkill = kernel.ImportSemanticSkillFromDirectory(skillsDirectory, \"SummarizeSkill\");\n",
    "\n",
    "var ask = \"What's the tallest building in South America?\";\n",
    "\n",
    "var result1 = await kernel.RunAsync(\n",
    "    ask,\n",
    "    search[\"Search\"]\n",
    ");\n",
    "\n",
    "var result2 = await kernel.RunAsync(\n",
    "    ask,\n",
    "    search[\"Search\"],\n",
    "    sumSkill[\"Summarize\"]\n",
    ");\n",
    "\n",
    "var result3 = await kernel.RunAsync(\n",
    "    ask,\n",
    "    search[\"Search\"],\n",
    "    sumSkill[\"Notegen\"]\n",
    ");\n",
    "\n",
    "Console.WriteLine(ask + \"\\n\");\n",
    "Console.WriteLine(\"Bing Answer: \" + result1 + \"\\n\");\n",
    "Console.WriteLine(\"Summary: \" + result2 + \"\\n\");\n",
    "Console.WriteLine(\"Notes: \" + result3 + \"\\n\");"
   ]
  },
  {
   "attachments": {},
   "cell_type": "markdown",
   "metadata": {},
   "source": []
  }
 ],
 "metadata": {
  "language_info": {
   "name": "csharp"
  },
  "orig_nbformat": 4
 },
 "nbformat": 4,
 "nbformat_minor": 2
}
