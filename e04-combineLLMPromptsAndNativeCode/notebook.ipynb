{
 "cells": [
  {
   "attachments": {},
   "cell_type": "markdown",
   "metadata": {},
   "source": [
    "# Combine LLM Prompts & Native Code"
   ]
  },
  {
   "cell_type": "code",
   "execution_count": 12,
   "metadata": {
    "dotnet_interactive": {
     "language": "csharp"
    },
    "polyglot_notebook": {
     "kernelName": "csharp"
    },
    "vscode": {
     "languageId": "polyglot-notebook"
    }
   },
   "outputs": [
    {
     "data": {
      "text/html": [
       "<div><div></div><div></div><div><strong>Installed Packages</strong><ul><li><span>Microsoft.SemanticKernel, 0.14.547.1-preview</span></li></ul></div></div>"
      ]
     },
     "metadata": {},
     "output_type": "display_data"
    }
   ],
   "source": [
    "#r \"nuget: Microsoft.SemanticKernel, 0.14.547.1-preview\"\n",
    "\n",
    "using Microsoft.SemanticKernel;\n",
    "using Microsoft.SemanticKernel.Orchestration;\n",
    "\n",
    "#!import ../config/SettingsHelper.cs\n",
    "\n",
    "SettingsHelper.LoadFromFile();\n",
    "\n",
    "IKernel kernel = new KernelBuilder().Build();\n",
    "if (Settings.UseAzureOpenAI)\n",
    "{\n",
    "    kernel.Config.AddAzureTextCompletionService(\"davinci2\", \"text-davinci-002\", Settings.AzureEndpoint, Settings.OpenAIApiKey);\n",
    "    kernel.Config.AddAzureTextCompletionService(\"davinci3\", \"text-davinci-003\", Settings.AzureEndpoint, Settings.OpenAIApiKey);\n",
    "}\n",
    "else\n",
    "{\n",
    "    kernel.Config.AddOpenAITextCompletionService(\"davinci\", \"text-davinci-002\", Settings.OpenAIApiKey, Settings.OrgId);\n",
    "}"
   ]
  },
  {
   "cell_type": "code",
   "execution_count": null,
   "metadata": {
    "dotnet_interactive": {
     "language": "csharp"
    },
    "polyglot_notebook": {
     "kernelName": "csharp"
    },
    "vscode": {
     "languageId": "polyglot-notebook"
    }
   },
   "outputs": [],
   "source": [
    "using BingConnector bing = new(Settings.BingApiKey);\n",
    "IDictionary<string, ISKFunction> text = kernel.ImportSkill(bing, \"bing\");\n",
    "\n",
    "var bingApiKey = await InteractiveKernel.GetPasswordAsync(\"Please enter your Bing Search API key\");\n",
    "var bingConnector = new BingConnector(bingApiKey);\n",
    "\n",
    "var ask = \"What's the tallest building in South America?\";\n",
    "\n",
    "var result1 = await kernel.RunAsync(\n",
    "    ask,\n",
    "    search[\"Search\"]\n",
    ");\n",
    "\n",
    "var result2 = await kernel.RunAsync(\n",
    "    ask,\n",
    "    search[\"Search\"],\n",
    "    sumSkill[\"Summarize\"]\n",
    ");\n",
    "\n",
    "var result3 = await kernel.RunAsync(\n",
    "    ask,\n",
    "    search[\"Search\"],\n",
    "    sumSkill[\"Notegen\"]\n",
    ");\n",
    "\n",
    "Console.WriteLine(ask + \"\\n\");\n",
    "Console.WriteLine(\"Bing Answer: \" + result1 + \"\\n\");\n",
    "Console.WriteLine(\"Summary: \" + result2 + \"\\n\");\n",
    "Console.WriteLine(\"Notes: \" + result3 + \"\\n\");"
   ]
  },
  {
   "attachments": {},
   "cell_type": "markdown",
   "metadata": {},
   "source": []
  }
 ],
 "metadata": {
  "language_info": {
   "name": "csharp"
  },
  "orig_nbformat": 4
 },
 "nbformat": 4,
 "nbformat_minor": 2
}
