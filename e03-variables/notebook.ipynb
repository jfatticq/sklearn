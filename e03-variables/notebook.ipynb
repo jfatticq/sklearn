{
 "cells": [
  {
   "attachments": {},
   "cell_type": "markdown",
   "metadata": {},
   "source": [
    "# Variables\n"
   ]
  },
  {
   "cell_type": "code",
   "execution_count": null,
   "metadata": {
    "dotnet_interactive": {
     "language": "csharp"
    },
    "polyglot_notebook": {
     "kernelName": "csharp"
    },
    "vscode": {
     "languageId": "polyglot-notebook"
    }
   },
   "outputs": [],
   "source": [
    "#r \"nuget: Microsoft.SemanticKernel, 0.14.547.1-preview\"\n",
    "\n",
    "#!import StaticTextPlugin.cs\n",
    "\n",
    "using Microsoft.SemanticKernel;\n",
    "using Microsoft.SemanticKernel.Orchestration;\n",
    "using System.Globalization;\n",
    "\n",
    "IKernel kernel = new KernelBuilder().Build();\n",
    "\n",
    "IDictionary<string, ISKFunction> text = kernel.ImportSkill(new StaticTextPlugin(), \"text\");\n",
    "\n",
    "ContextVariables variables = new(\"Today is: \");\n",
    "variables.Set(\"day\", DateTimeOffset.Now.ToString(\"dddd\", CultureInfo.CurrentCulture));\n",
    "\n",
    "SKContext context = await kernel.RunAsync(variables,\n",
    "    text[\"AppendDay\"],\n",
    "    text[\"Uppercase\"]);\n",
    "\n",
    "Console.WriteLine(context.Result);"
   ]
  },
  {
   "attachments": {},
   "cell_type": "markdown",
   "metadata": {},
   "source": [
    "The code imports the StaticTextPlugin.cs file in this folder and adds it as a skill named \"text\" to the kernel object.\n",
    "\n",
    "The skill is used to append the current day of the week to the string \"Today is: \". The DateTimeOffset.Now.ToString(“dddd”, CultureInfo.CurrentCulture) method is used to get the current day of the week in the user’s local time zone. The ContextVariables class is used to create a new context variable named “variables” with a value of \"Today is: \". The Set method is used to set the value of the “day” variable to the current day of the week. Finally, the SKContext class is used to run the skill on the context variables and output the result."
   ]
  }
 ],
 "metadata": {
  "language_info": {
   "name": "csharp"
  },
  "orig_nbformat": 4
 },
 "nbformat": 4,
 "nbformat_minor": 2
}
