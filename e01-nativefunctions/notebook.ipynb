{
 "cells": [
  {
   "attachments": {},
   "cell_type": "markdown",
   "metadata": {},
   "source": [
    "# Using a native function"
   ]
  },
  {
   "cell_type": "code",
   "execution_count": null,
   "metadata": {
    "dotnet_interactive": {
     "language": "csharp"
    },
    "polyglot_notebook": {
     "kernelName": "csharp"
    },
    "vscode": {
     "languageId": "polyglot-notebook"
    }
   },
   "outputs": [],
   "source": [
    "#r \"nuget: Microsoft.SemanticKernel, 0.14.547.1-preview\"\n",
    "\n",
    "using Microsoft.SemanticKernel.CoreSkills;\n",
    "\n",
    "// Load native skill\n",
    "var text = new TextSkill();\n",
    "\n",
    "// Use function without kernel\n",
    "var result = text.Uppercase(\"ciao!\");\n",
    "\n",
    "Console.WriteLine(result);"
   ]
  }
 ],
 "metadata": {
  "language_info": {
   "name": "csharp"
  },
  "orig_nbformat": 4
 },
 "nbformat": 4,
 "nbformat_minor": 2
}
