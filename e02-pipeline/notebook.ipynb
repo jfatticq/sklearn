{
 "cells": [
  {
   "attachments": {},
   "cell_type": "markdown",
   "metadata": {},
   "source": [
    "# Pipeline\n",
    "You can chain several skill functions together. They will run in the sequence you define and pass their output to next skill in the sequence."
   ]
  },
  {
   "cell_type": "code",
   "execution_count": null,
   "metadata": {
    "dotnet_interactive": {
     "language": "csharp"
    },
    "polyglot_notebook": {
     "kernelName": "csharp"
    },
    "vscode": {
     "languageId": "polyglot-notebook"
    }
   },
   "outputs": [],
   "source": [
    "#r \"nuget: Microsoft.SemanticKernel, 0.14.547.1-preview\"\n",
    "\n",
    "using Microsoft.SemanticKernel;\n",
    "using Microsoft.SemanticKernel.CoreSkills;\n",
    "using Microsoft.SemanticKernel.Orchestration;\n",
    "using Microsoft.SemanticKernel.SkillDefinition;\n",
    "\n",
    "string _input = \"    i n f i n i t e     s p a c e     \";\n",
    "\n",
    "IKernel kernel = new KernelBuilder().Build();\n",
    "\n",
    "// Import native skill\n",
    "IDictionary<string, ISKFunction> text = kernel.ImportSkill(new TextSkill());\n",
    "\n",
    "SKContext context= await kernel.RunAsync(_input,\n",
    "    text[\"TrimStart\"],\n",
    "    text[\"TrimEnd\"],\n",
    "    text[\"Uppercase\"]);\n",
    "\n",
    "Console.WriteLine(context.Result);"
   ]
  },
  {
   "attachments": {},
   "cell_type": "markdown",
   "metadata": {},
   "source": [
    "The code imports the TextSkill skill into the kernel object as a variable named “text”. The skill is used to trim the whitespace from the beginning and end of the string “_input” and convert it to uppercase. The SKContext class is used to run the skill on the input string and output the result."
   ]
  }
 ],
 "metadata": {
  "language_info": {
   "name": "csharp"
  },
  "orig_nbformat": 4
 },
 "nbformat": 4,
 "nbformat_minor": 2
}
